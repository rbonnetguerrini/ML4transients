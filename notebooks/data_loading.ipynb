{
 "cells": [
  {
   "cell_type": "code",
   "execution_count": null,
   "id": "91b6b6a4",
   "metadata": {},
   "outputs": [],
   "source": [
    "import time\n",
    "from ML4transients.data_access import DatasetLoader\n",
    "from ML4transients.training import PytorchDataset\n",
    "\n",
    "print(\"Loading dataset...\")\n",
    "t0 = time.time()\n",
    "dataset = DatasetLoader('/sps/lsst/groups/transients/HSC/fouchez/raphael/data/UDEEP_norm')\n",
    "print(f\"Dataset loaded in {time.time() - t0:.2f} seconds\")"
   ]
  },
  {
   "cell_type": "markdown",
   "id": "5d2a1fc5",
   "metadata": {},
   "source": [
    "# Cutouts\n"
   ]
  },
  {
   "cell_type": "code",
   "execution_count": null,
   "id": "985526f5",
   "metadata": {},
   "outputs": [],
   "source": [
    "import matplotlib.pyplot as plt\n",
    "import numpy as np\n",
    "\n",
    "first_visit = dataset.visits[0]\n",
    "print(f\"Loading cutouts from visit {first_visit}\")\n",
    "\n",
    "cutout_loader = dataset.cutouts[first_visit]\n",
    "feature_loader = dataset.features[first_visit]\n",
    "sample_ids = cutout_loader.ids[:6]\n",
    "\n",
    "fig, axes = plt.subplots(2, 3, figsize=(12, 8))\n",
    "axes = axes.flatten()\n",
    "\n",
    "for i, dia_id in enumerate(sample_ids):\n",
    "    cutout = cutout_loader.get_by_id(dia_id)\n",
    "    features = feature_loader.get_by_id(dia_id)\n",
    "    is_injection = features['is_injection'].iloc[0] if not features.empty else False\n",
    "    \n",
    "    im = axes[i].imshow(cutout, cmap='RdYlGn', origin='lower')\n",
    "    axes[i].set_title(f'ID: {dia_id}\\nInjection: {is_injection}')\n",
    "    axes[i].axis('off')\n",
    "    plt.colorbar(im, ax=axes[i], fraction=0.046, pad=0.04)\n",
    "\n",
    "plt.tight_layout()\n",
    "plt.show()\n",
    "\n",
    "print(f\"Cutout shape: {cutout.shape}\")\n",
    "print(f\"Value range: [{cutout.min():.3f}, {cutout.max():.3f}]\")"
   ]
  },
  {
   "cell_type": "markdown",
   "id": "3f91487a",
   "metadata": {},
   "source": [
    "# LC visualization"
   ]
  },
  {
   "cell_type": "code",
   "execution_count": null,
   "id": "b447b7fa",
   "metadata": {},
   "outputs": [],
   "source": [
    "import time\n",
    "import matplotlib.pyplot as plt\n",
    "import numpy as np\n",
    "\n",
    "first_visit = dataset.visits[0]\n",
    "sample_dia_source_id = dataset.cutouts[first_visit].ids[10]\n",
    "\n",
    "print(f\"Performance comparison for diaSourceId: {sample_dia_source_id}\")\n",
    "print(\"=\" * 60)\n",
    "\n",
    "# Method 1: Lightcurve only\n",
    "print(\"\\nMethod 1: Lightcurve columns only\")\n",
    "start_time = time.time()\n",
    "data_lc_only = dataset.get_complete_lightcurve_data(sample_dia_source_id, load_cutouts=False)\n",
    "time_lc_only = time.time() - start_time\n",
    "\n",
    "if data_lc_only:\n",
    "    print(f\"Success: {data_lc_only['num_sources']} sources, {len(data_lc_only['lightcurve'])} LC points\")\n",
    "    print(f\"Time: {time_lc_only:.3f}s\")\n",
    "else:\n",
    "    print(\"Failed\")\n",
    "\n",
    "print(\"-\" * 60)\n",
    "\n",
    "# Method 2: Lightcurve + cutouts\n",
    "print(\"\\nMethod 2: Lightcurve + cutouts\")\n",
    "start_time = time.time()\n",
    "data_full = dataset.get_complete_lightcurve_data(sample_dia_source_id, load_cutouts=True)\n",
    "time_full = time.time() - start_time\n",
    "\n",
    "if data_full:\n",
    "    print(f\"Success: {data_full['num_sources']} sources, {len(data_full['cutouts'])} cutouts\")\n",
    "    print(f\"Time: {time_full:.3f}s\")\n",
    "else:\n",
    "    print(\"Failed\")\n",
    "\n",
    "print(\"=\" * 60)\n",
    "\n",
    "# Performance summary\n",
    "if data_lc_only and data_full:\n",
    "    speedup = time_full / time_lc_only\n",
    "    print(f\"\\nSpeedup: {speedup:.1f}x faster (lightcurve-only)\")\n",
    "    print(f\"Time saved: {time_full - time_lc_only:.3f}s\")"
   ]
  },
  {
   "cell_type": "code",
   "execution_count": null,
   "id": "1615097b",
   "metadata": {},
   "outputs": [],
   "source": [
    "# Plot all cutouts\n",
    "if data_full and data_full['cutouts']:\n",
    "    cutouts = data_full['cutouts']\n",
    "    lightcurve = data_full['lightcurve']\n",
    "    \n",
    "    # Sort by time if available\n",
    "    if 'diaSourceId' in lightcurve.columns and 'midpointMjdTai' in lightcurve.columns:\n",
    "        time_map = dict(zip(lightcurve['diaSourceId'], lightcurve['midpointMjdTai']))\n",
    "        sorted_ids = sorted(cutouts.keys(), key=lambda x: time_map.get(x, 0))\n",
    "    else:\n",
    "        sorted_ids = list(cutouts.keys())\n",
    "    \n",
    "    n_cutouts = len(cutouts)\n",
    "    cols = min(8, n_cutouts)\n",
    "    rows = (n_cutouts + cols - 1) // cols\n",
    "    \n",
    "    fig, axes = plt.subplots(rows, cols, figsize=(2*cols, 2*rows))\n",
    "    if n_cutouts == 1:\n",
    "        axes = [axes]\n",
    "    elif rows == 1:\n",
    "        axes = axes.reshape(1, -1)\n",
    "    axes = axes.flatten()\n",
    "    \n",
    "    for i, src_id in enumerate(sorted_ids):\n",
    "        im = axes[i].imshow(cutouts[src_id], cmap='RdYlGn', origin='lower')\n",
    "        axes[i].axis('off')\n",
    "        plt.colorbar(im, ax=axes[i], fraction=0.046, pad=0.04)\n",
    "    \n",
    "    for i in range(n_cutouts, len(axes)):\n",
    "        axes[i].set_visible(False)\n",
    "    \n",
    "    plt.suptitle(f'Cutouts for object {data_full[\"object_id\"]} ({n_cutouts} total)')\n",
    "    plt.tight_layout()\n",
    "    plt.show()\n",
    "else:\n",
    "    print(\"No cutouts available\")"
   ]
  },
  {
   "cell_type": "markdown",
   "id": "7a8e1640",
   "metadata": {},
   "source": [
    "# Lc inference"
   ]
  },
  {
   "cell_type": "code",
   "execution_count": null,
   "id": "e84d2e77",
   "metadata": {},
   "outputs": [],
   "source": [
    "t1 = time.time()\n",
    "\n",
    "dataset = DatasetLoader('/sps/lsst/groups/transients/HSC/fouchez/raphael/data/UDEEP_norm')\n",
    "\n",
    "ensemble_df = dataset.lightcurves.inference_snn\n",
    "\n",
    "print(f\"Inference done in {time.time() - t1:.2f} seconds\")"
   ]
  },
  {
   "cell_type": "code",
   "execution_count": null,
   "id": "f1f41fee",
   "metadata": {},
   "outputs": [],
   "source": [
    "dataset = DatasetLoader('/sps/lsst/groups/transients/HSC/fouchez/raphael/data/UDEEP_norm')\n",
    "t2 = time.time()\n",
    "\n",
    "high_conf = list(dataset.lightcurves.get_high_conf_sn_sources())\n",
    "print(f\"Get high conf LC done in {time.time() - t2:.2f} seconds\")\n",
    "t3 = time.time()\n",
    "\n",
    "dataset.lightcurves.save_high_conf_subset_dataset(\"/sps/lsst/groups/transients/HSC/fouchez/raphael/data/UDEEP_norm_high_conf_small\", prob_threshold = 0.9, std_threshold= 0.001)\n",
    "print(f\"Save high conf LC done in {time.time() - t3:.2f} seconds\")\n",
    "\n"
   ]
  },
  {
   "cell_type": "code",
   "execution_count": null,
   "id": "7be1cbd4",
   "metadata": {},
   "outputs": [],
   "source": [
    "print(high_conf[100 :])"
   ]
  },
  {
   "cell_type": "code",
   "execution_count": null,
   "id": "5140e073",
   "metadata": {},
   "outputs": [],
   "source": []
  }
 ],
 "metadata": {
  "kernelspec": {
   "display_name": "Python (env_ML)",
   "language": "python",
   "name": "env_ml"
  },
  "language_info": {
   "codemirror_mode": {
    "name": "ipython",
    "version": 3
   },
   "file_extension": ".py",
   "mimetype": "text/x-python",
   "name": "python",
   "nbconvert_exporter": "python",
   "pygments_lexer": "ipython3",
   "version": "3.9.22"
  }
 },
 "nbformat": 4,
 "nbformat_minor": 5
}
