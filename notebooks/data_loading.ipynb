{
 "cells": [
  {
   "cell_type": "code",
   "execution_count": 1,
   "id": "4141eec7",
   "metadata": {},
   "outputs": [
    {
     "name": "stderr",
     "output_type": "stream",
     "text": [
      "2025-07-30 11:57:59.584502: I tensorflow/core/util/port.cc:153] oneDNN custom operations are on. You may see slightly different numerical results due to floating-point round-off errors from different computation orders. To turn them off, set the environment variable `TF_ENABLE_ONEDNN_OPTS=0`.\n",
      "2025-07-30 11:57:59.601721: E external/local_xla/xla/stream_executor/cuda/cuda_fft.cc:467] Unable to register cuFFT factory: Attempting to register factory for plugin cuFFT when one has already been registered\n",
      "WARNING: All log messages before absl::InitializeLog() is called are written to STDERR\n",
      "E0000 00:00:1753869479.622804  523978 cuda_dnn.cc:8579] Unable to register cuDNN factory: Attempting to register factory for plugin cuDNN when one has already been registered\n",
      "E0000 00:00:1753869479.629295  523978 cuda_blas.cc:1407] Unable to register cuBLAS factory: Attempting to register factory for plugin cuBLAS when one has already been registered\n",
      "W0000 00:00:1753869479.645658  523978 computation_placer.cc:177] computation placer already registered. Please check linkage and avoid linking the same target more than once.\n",
      "W0000 00:00:1753869479.645675  523978 computation_placer.cc:177] computation placer already registered. Please check linkage and avoid linking the same target more than once.\n",
      "W0000 00:00:1753869479.645677  523978 computation_placer.cc:177] computation placer already registered. Please check linkage and avoid linking the same target more than once.\n",
      "W0000 00:00:1753869479.645678  523978 computation_placer.cc:177] computation placer already registered. Please check linkage and avoid linking the same target more than once.\n",
      "2025-07-30 11:57:59.651678: I tensorflow/core/platform/cpu_feature_guard.cc:210] This TensorFlow binary is optimized to use available CPU instructions in performance-critical operations.\n",
      "To enable the following instructions: AVX2 AVX512F AVX512_VNNI FMA, in other operations, rebuild TensorFlow with the appropriate compiler flags.\n"
     ]
    },
    {
     "name": "stdout",
     "output_type": "stream",
     "text": [
      "Loading dataset...\n",
      "Dataset loaded in 0.06 seconds\n",
      "\n",
      "Creating PyTorch dataset (loads only labels)...\n",
      "Building sample index...\n",
      "Creating splits from 57905 samples...\n",
      "Loading 40533 cutouts...\n",
      "Loading 5791 cutouts...\n",
      "Loading 11581 cutouts...\n",
      "split created in 26.75 seconds\n",
      "\n",
      "creating val...\n",
      "Val label: PytorchDataset(5791 samples)\n",
      "  Image shape: (5791, 30, 30)\n",
      "  Labels: 1312 injected, 4479 real (retrieved in 0.0002 seconds)\n",
      "\n",
      "creating val...\n",
      "test label: PytorchDataset(11581 samples)\n",
      "  Image shape: (11581, 30, 30)\n",
      "  Labels: 2624 injected, 8957 real (retrieved in 0.0003 seconds)\n",
      "\n",
      "creating train...\n",
      "train label: PytorchDataset(40533 samples)\n",
      "  Image shape: (40533, 30, 30)\n",
      "  Labels: 9182 injected, 31351 real (retrieved in 0.0001 seconds)\n"
     ]
    }
   ],
   "source": [
    "import time\n",
    "from ML4transients.data_access import DatasetLoader\n",
    "from ML4transients.training import PytorchDataset\n",
    "\n",
    "# Load the dataset (index-only loading)\n",
    "print(\"Loading dataset...\")\n",
    "t0 = time.time()\n",
    "dataset = DatasetLoader('/sps/lsst/groups/transients/HSC/fouchez/raphael/data/rc2_norm')\n",
    "print(f\"Dataset loaded in {time.time() - t0:.2f} seconds\")\n",
    "\n",
    "# Create PyTorch dataset (should load only labels)\n",
    "print(\"\\nCreating PyTorch dataset (loads only labels)...\")\n",
    "t1 = time.time()\n",
    "datasets = PytorchDataset.create_splits(dataset, random_state=42)\n",
    "print(f\"split created in {time.time() - t1:.2f} seconds\")\n",
    "\n",
    "# Access label of first sample (fast, from preloaded label column)\n",
    "print(\"\\ncreating val...\")\n",
    "t2 = time.time()\n",
    "val_dataset = datasets['val'] \n",
    "print(f\"Val label: {val_dataset} (retrieved in {time.time() - t2:.4f} seconds)\")\n",
    "\n",
    "# Access label of first sample (fast, from preloaded label column)\n",
    "print(\"\\ncreating val...\")\n",
    "t3 = time.time()\n",
    "test_dataset = datasets['test'] \n",
    "print(f\"test label: {test_dataset} (retrieved in {time.time() - t3:.4f} seconds)\")\n",
    "\n",
    "print(\"\\ncreating train...\")\n",
    "t3 = time.time()\n",
    "train_dataset = datasets['train'] \n",
    "print(f\"train label: {train_dataset} (retrieved in {time.time() - t3:.4f} seconds)\")"
   ]
  },
  {
   "cell_type": "code",
   "execution_count": null,
   "id": "985526f5",
   "metadata": {},
   "outputs": [],
   "source": []
  }
 ],
 "metadata": {
  "kernelspec": {
   "display_name": "env_ML",
   "language": "python",
   "name": "env_ML"
  }
 },
 "nbformat": 4,
 "nbformat_minor": 5
}
