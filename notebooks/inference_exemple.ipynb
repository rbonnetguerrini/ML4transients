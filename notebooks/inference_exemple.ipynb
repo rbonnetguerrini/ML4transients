{
 "cells": [
  {
   "cell_type": "code",
   "execution_count": 1,
   "id": "9887d153",
   "metadata": {},
   "outputs": [
    {
     "name": "stdout",
     "output_type": "stream",
     "text": [
      "No inference results found for model: /sps/lsst/groups/transients/HSC/fouchez/raphael/training/simple_run\n",
      "Running inference...\n"
     ]
    },
    {
     "name": "stderr",
     "output_type": "stream",
     "text": [
      "2025-07-30 20:30:38.491154: I tensorflow/core/util/port.cc:153] oneDNN custom operations are on. You may see slightly different numerical results due to floating-point round-off errors from different computation orders. To turn them off, set the environment variable `TF_ENABLE_ONEDNN_OPTS=0`.\n",
      "2025-07-30 20:30:38.507748: E external/local_xla/xla/stream_executor/cuda/cuda_fft.cc:467] Unable to register cuFFT factory: Attempting to register factory for plugin cuFFT when one has already been registered\n",
      "WARNING: All log messages before absl::InitializeLog() is called are written to STDERR\n",
      "E0000 00:00:1753900238.529783 2720170 cuda_dnn.cc:8579] Unable to register cuDNN factory: Attempting to register factory for plugin cuDNN when one has already been registered\n",
      "E0000 00:00:1753900238.536116 2720170 cuda_blas.cc:1407] Unable to register cuBLAS factory: Attempting to register factory for plugin cuBLAS when one has already been registered\n",
      "W0000 00:00:1753900238.552687 2720170 computation_placer.cc:177] computation placer already registered. Please check linkage and avoid linking the same target more than once.\n",
      "W0000 00:00:1753900238.552711 2720170 computation_placer.cc:177] computation placer already registered. Please check linkage and avoid linking the same target more than once.\n",
      "W0000 00:00:1753900238.552713 2720170 computation_placer.cc:177] computation placer already registered. Please check linkage and avoid linking the same target more than once.\n",
      "W0000 00:00:1753900238.552715 2720170 computation_placer.cc:177] computation placer already registered. Please check linkage and avoid linking the same target more than once.\n",
      "2025-07-30 20:30:38.558048: I tensorflow/core/platform/cpu_feature_guard.cc:210] This TensorFlow binary is optimized to use available CPU instructions in performance-critical operations.\n",
      "To enable the following instructions: AVX2 AVX512F AVX512_VNNI FMA, in other operations, rebuild TensorFlow with the appropriate compiler flags.\n"
     ]
    },
    {
     "name": "stdout",
     "output_type": "stream",
     "text": [
      "Building inference dataset index...\n",
      "Created inference dataset with 57905 samples\n",
      "Loading all data then applying split (consider using create_splits() for efficiency)\n",
      "TensorBoard logging to: runs/experiment\n",
      "Run 'tensorboard --logdir=runs' to view logs\n",
      "Error running inference: 'model_params'\n"
     ]
    }
   ],
   "source": [
    "from ML4transients.data_access import DatasetLoader\n",
    "\n",
    "# Load your dataset\n",
    "loader = DatasetLoader('/sps/lsst/groups/transients/HSC/fouchez/raphael/data/rc2_norm')\n",
    "\n",
    "# Check for existing inference or run new inference\n",
    "weights_path = '/sps/lsst/groups/transients/HSC/fouchez/raphael/training/simple_run'\n",
    "inference_loader = loader.check_or_run_inference(weights_path)\n",
    "\n"
   ]
  },
  {
   "cell_type": "code",
   "execution_count": null,
   "id": "8dad2b46",
   "metadata": {},
   "outputs": [],
   "source": [
    "if inference_loader:\n",
    "    # Access results quickly\n",
    "    print(f\"Accuracy: {inference_loader.metrics['accuracy']}\")\n",
    "    print(f\"Predictions shape: {inference_loader.predictions.shape}\")\n",
    "    \n",
    "    # Get specific result\n",
    "    result = inference_loader.get_results_by_id(some_dia_source_id)\n",
    "    if result:\n",
    "        print(f\"Prediction: {result['prediction']}, True label: {result['label']}\")"
   ]
  }
 ],
 "metadata": {
  "kernelspec": {
   "display_name": "env_ML",
   "language": "python",
   "name": "env_ML"
  },
  "language_info": {
   "codemirror_mode": {
    "name": "ipython",
    "version": 3
   },
   "file_extension": ".py",
   "mimetype": "text/x-python",
   "name": "python",
   "nbconvert_exporter": "python",
   "pygments_lexer": "ipython3",
   "version": "3.9.22"
  }
 },
 "nbformat": 4,
 "nbformat_minor": 5
}
