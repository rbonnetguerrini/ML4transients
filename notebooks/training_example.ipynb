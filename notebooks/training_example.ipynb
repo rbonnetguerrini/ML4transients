{
 "cells": [
  {
   "cell_type": "code",
   "execution_count": 2,
   "id": "b928a094",
   "metadata": {},
   "outputs": [],
   "source": [
    "from ML4transients.training import PytorchDataset, CustomCNN, get_trainer, get_loss_function"
   ]
  },
  {
   "cell_type": "code",
   "execution_count": 3,
   "id": "5107059f",
   "metadata": {},
   "outputs": [
    {
     "name": "stdout",
     "output_type": "stream",
     "text": [
      "Building sample index...\n",
      "Creating splits from 57905 samples...\n",
      "Loading 40533 cutouts...\n",
      "Loading 5791 cutouts...\n",
      "Loading 11581 cutouts...\n"
     ]
    }
   ],
   "source": [
    "datasets = PytorchDataset.create_splits('/sps/lsst/groups/transients/HSC/fouchez/raphael/rc2_norm', random_state=42)"
   ]
  },
  {
   "cell_type": "code",
   "execution_count": 4,
   "id": "b7fb5a5b",
   "metadata": {},
   "outputs": [],
   "source": [
    "val_dataset = datasets['val'] \n"
   ]
  },
  {
   "cell_type": "code",
   "execution_count": 5,
   "id": "8f67ef21",
   "metadata": {},
   "outputs": [],
   "source": [
    "from torch.utils.data import DataLoader\n",
    "\n",
    "val_loader = DataLoader(\n",
    "    val_dataset, \n",
    "    batch_size=64, \n",
    "    shuffle=False,\n",
    "    num_workers=0\n",
    ")"
   ]
  },
  {
   "cell_type": "code",
   "execution_count": 6,
   "id": "fbc188cd",
   "metadata": {},
   "outputs": [],
   "source": [
    "train_dataset = datasets['train'] \n",
    "test_dataset = datasets['test'] \n",
    "val_dataset = datasets['val'] \n",
    "\n"
   ]
  },
  {
   "cell_type": "code",
   "execution_count": 9,
   "id": "cedf3419",
   "metadata": {},
   "outputs": [],
   "source": [
    "from torch.utils.data import DataLoader\n",
    "\n",
    "config = {\n",
    "    \"epochs\": 20,\n",
    "    \"learning_rate\": 0.001,\n",
    "    \"batch_size\": 128,\n",
    "    \"num_iter_per_epoch\": 400,\n",
    "    \"epoch_decay_start\": 80,\n",
    "    \"num_workers\": 0,\n",
    "    \"model_params\": {\n",
    "        \"input_shape\": [30, 30, 1],\n",
    "        \"num_classes\": 2,\n",
    "        \"filters_1\": 32,\n",
    "        \"filters_2\": 64,\n",
    "        \"dropout_1\": 0.25,\n",
    "        \"dropout_2\": 0.25,\n",
    "        \"dropout_3\": 0.5,\n",
    "        \"units\": 128\n",
    "    }\n",
    "}\n",
    "\n",
    "train_loader = DataLoader(\n",
    "    train_dataset, \n",
    "    batch_size=config['batch_size'],  # 128 from your config\n",
    "    shuffle=True,\n",
    "    num_workers=config['num_workers']  # 4 from your config\n",
    ")\n",
    "test_loader = DataLoader(\n",
    "    test_dataset, \n",
    "    batch_size=config['batch_size'], \n",
    "    shuffle=False,\n",
    "    num_workers=config['num_workers']\n",
    ")\n",
    "\n",
    "val_loader = DataLoader(\n",
    "    val_dataset, \n",
    "    batch_size=config['batch_size'], \n",
    "    shuffle=False,\n",
    "    num_workers=config['num_workers']\n",
    ")\n",
    "trainer = get_trainer(\"standard\", config)\n",
    "\n",
    "\n"
   ]
  },
  {
   "cell_type": "code",
   "execution_count": 10,
   "id": "ea88238f",
   "metadata": {},
   "outputs": [
    {
     "data": {
      "text/plain": [
       "{'loss': 0.23575557272422953, 'accuracy': 0.9010435941085042}"
      ]
     },
     "execution_count": 10,
     "metadata": {},
     "output_type": "execute_result"
    }
   ],
   "source": [
    "trainer.train_one_epoch(1, train_loader)"
   ]
  },
  {
   "cell_type": "code",
   "execution_count": null,
   "id": "ddc46d86",
   "metadata": {},
   "outputs": [
    {
     "name": "stdout",
     "output_type": "stream",
     "text": [
      "Epoch 1/20 - Train: {'loss': 0.16991867296609217, 'accuracy': 0.9337083364172403} - Test: {'accuracy': 0.9424056644503929} - Val: {'accuracy': 0.946123294767743}\n",
      "Epoch 2/20 - Train: {'loss': 0.15191308899021674, 'accuracy': 0.9415537956726617} - Test: {'accuracy': 0.9435281927294706} - Val: {'accuracy': 0.9513037471939216}\n",
      "Epoch 3/20 - Train: {'loss': 0.14566406118756964, 'accuracy': 0.9462660054770188} - Test: {'accuracy': 0.9486227441499007} - Val: {'accuracy': 0.9523398376791573}\n",
      "Epoch 4/20 - Train: {'loss': 0.13786521316608796, 'accuracy': 0.9497199812498458} - Test: {'accuracy': 0.9508678007080563} - Val: {'accuracy': 0.9526852011742358}\n",
      "Epoch 5/20 - Train: {'loss': 0.13601294168115413, 'accuracy': 0.9502874201268102} - Test: {'accuracy': 0.9506087557205768} - Val: {'accuracy': 0.9495769297185288}\n",
      "Epoch 6/20 - Train: {'loss': 0.13136972475221104, 'accuracy': 0.9515949966693805} - Test: {'accuracy': 0.9512131940246956} - Val: {'accuracy': 0.954584700397168}\n",
      "Epoch 7/20 - Train: {'loss': 0.12631769872003173, 'accuracy': 0.9525818468901882} - Test: {'accuracy': 0.9543217338744495} - Val: {'accuracy': 0.9556207908824037}\n",
      "Epoch 8/20 - Train: {'loss': 0.12305277518998561, 'accuracy': 0.9549009449090864} - Test: {'accuracy': 0.9517312839996546} - Val: {'accuracy': 0.954584700397168}\n",
      "Epoch 9/20 - Train: {'loss': 0.11928985987081889, 'accuracy': 0.9561345076850961} - Test: {'accuracy': 0.949486227441499} - Val: {'accuracy': 0.9526852011742358}\n",
      "Epoch 10/20 - Train: {'loss': 0.1178194633817259, 'accuracy': 0.9565292477734192} - Test: {'accuracy': 0.953544598912011} - Val: {'accuracy': 0.9540666551545501}\n",
      "Epoch 11/20 - Train: {'loss': 0.11498379997603525, 'accuracy': 0.9586016332371154} - Test: {'accuracy': 0.9516449356704948} - Val: {'accuracy': 0.9537212916594716}\n",
      "Epoch 12/20 - Train: {'loss': 0.11281358636328098, 'accuracy': 0.9589717020699183} - Test: {'accuracy': 0.9509541490372161} - Val: {'accuracy': 0.9528578829217752}\n",
      "Epoch 13/20 - Train: {'loss': 0.11072509400899101, 'accuracy': 0.9597858535020847} - Test: {'accuracy': 0.9524220706329333} - Val: {'accuracy': 0.9540666551545501}\n",
      "Epoch 14/20 - Train: {'loss': 0.10619617883433304, 'accuracy': 0.9618335677102607} - Test: {'accuracy': 0.9508678007080563} - Val: {'accuracy': 0.9537212916594716}\n",
      "Epoch 15/20 - Train: {'loss': 0.10531377016745908, 'accuracy': 0.9606000049342511} - Test: {'accuracy': 0.953544598912011} - Val: {'accuracy': 0.9549300638922466}\n",
      "Epoch 16/20 - Train: {'loss': 0.10314454279299413, 'accuracy': 0.9615128413884982} - Test: {'accuracy': 0.9533719022536914} - Val: {'accuracy': 0.953375928164393}\n"
     ]
    }
   ],
   "source": [
    "best_acc = trainer.fit(train_loader, test_loader, val_loader)\n"
   ]
  },
  {
   "cell_type": "code",
   "execution_count": null,
   "id": "2ce26751",
   "metadata": {},
   "outputs": [],
   "source": []
  }
 ],
 "metadata": {
  "kernelspec": {
   "display_name": "env_ML",
   "language": "python",
   "name": "env_ML"
  },
  "language_info": {
   "codemirror_mode": {
    "name": "ipython",
    "version": 3
   },
   "file_extension": ".py",
   "mimetype": "text/x-python",
   "name": "python",
   "nbconvert_exporter": "python",
   "pygments_lexer": "ipython3",
   "version": "3.9.22"
  }
 },
 "nbformat": 4,
 "nbformat_minor": 5
}
