{
 "cells": [
  {
   "cell_type": "code",
   "execution_count": 1,
   "id": "b928a094",
   "metadata": {},
   "outputs": [],
   "source": [
    "from ML4transients.training import PytorchDataset, CustomCNN, get_trainer, get_loss_function"
   ]
  },
  {
   "cell_type": "code",
   "execution_count": 4,
   "id": "5107059f",
   "metadata": {},
   "outputs": [
    {
     "name": "stdout",
     "output_type": "stream",
     "text": [
      "Building sample index...\n",
      "Creating splits from 8490713 samples...\n",
      "Loading 5943498 cutouts...\n",
      "Loading 849072 cutouts...\n",
      "Loading 1698143 cutouts...\n"
     ]
    }
   ],
   "source": [
    "datasets = PytorchDataset.create_splits('/sps/lsst/groups/transients/HSC/fouchez/raphael/UDEEP_COSMOS2', random_state=42)"
   ]
  },
  {
   "cell_type": "code",
   "execution_count": 5,
   "id": "b7fb5a5b",
   "metadata": {},
   "outputs": [],
   "source": [
    "val_dataset = datasets['val'] \n"
   ]
  },
  {
   "cell_type": "code",
   "execution_count": 8,
   "id": "8f67ef21",
   "metadata": {},
   "outputs": [],
   "source": [
    "from torch.utils.data import DataLoader\n",
    "\n",
    "val_loader = DataLoader(\n",
    "    val_dataset, \n",
    "    batch_size=64, \n",
    "    shuffle=False,\n",
    "    num_workers=0\n",
    ")"
   ]
  },
  {
   "cell_type": "code",
   "execution_count": 3,
   "id": "fbc188cd",
   "metadata": {},
   "outputs": [],
   "source": [
    "train_dataset = datasets['train'] \n",
    "test_dataset = datasets['test'] \n",
    "val_dataset = datasets['val'] \n",
    "\n"
   ]
  },
  {
   "cell_type": "code",
   "execution_count": null,
   "id": "cedf3419",
   "metadata": {},
   "outputs": [],
   "source": [
    "from torch.utils.data import DataLoader\n",
    "\n",
    "config = {\n",
    "    \"epochs\": 200,\n",
    "    \"learning_rate\": 0.001,\n",
    "    \"batch_size\": 128,\n",
    "    \"num_iter_per_epoch\": 400,\n",
    "    \"epoch_decay_start\": 80,\n",
    "    \"num_workers\": 0,\n",
    "    \"model_params\": {\n",
    "        \"input_shape\": [30, 30, 1],\n",
    "        \"num_classes\": 2,\n",
    "        \"filters_1\": 32,\n",
    "        \"filters_2\": 64,\n",
    "        \"dropout_1\": 0.25,\n",
    "        \"dropout_2\": 0.25,\n",
    "        \"dropout_3\": 0.5,\n",
    "        \"units\": 128\n",
    "    }\n",
    "}\n",
    "\n",
    "train_loader = DataLoader(\n",
    "    train_dataset, \n",
    "    batch_size=config['batch_size'],  # 128 from your config\n",
    "    shuffle=True,\n",
    "    num_workers=config['num_workers']  # 4 from your config\n",
    ")\n",
    "test_loader = DataLoader(\n",
    "    test_dataset, \n",
    "    batch_size=config['batch_size'], \n",
    "    shuffle=False,\n",
    "    num_workers=config['num_workers']\n",
    ")\n",
    "\n",
    "val_loader = DataLoader(\n",
    "    val_dataset, \n",
    "    batch_size=config['batch_size'], \n",
    "    shuffle=False,\n",
    "    num_workers=config['num_workers']\n",
    ")\n",
    "trainer = get_trainer(\"standard\", config)\n",
    "\n",
    "\n"
   ]
  },
  {
   "cell_type": "code",
   "execution_count": 19,
   "id": "63f0a6c3",
   "metadata": {},
   "outputs": [],
   "source": [
    "import torch\n",
    "import torch.nn as nn\n",
    "import torch.nn.functional as F\n",
    "class CustomCNN(nn.Module):\n",
    "    def __init__(self, input_shape=(30, 30, 1), num_classes=2, filters_1=32, filters_2=64, \n",
    "                 dropout_1=0.25, dropout_2=0.25, dropout_3=0.5, units=128):\n",
    "        super(CustomCNN, self).__init__()\n",
    "        \n",
    "        # Input shape: (batch_size, 1, 30, 30)\n",
    "        self.conv1 = nn.Conv2d(1, filters_1, kernel_size=3, padding=1)\n",
    "        self.pool1 = nn.MaxPool2d(2, 2)\n",
    "        self.dropout1 = nn.Dropout2d(dropout_1)\n",
    "        \n",
    "        self.conv2 = nn.Conv2d(filters_1, filters_2, kernel_size=3, padding=1)\n",
    "        self.pool2 = nn.MaxPool2d(2, 2)\n",
    "        self.dropout2 = nn.Dropout2d(dropout_2)\n",
    "        \n",
    "        # Calculate flattened size after convolutions\n",
    "        # After two 2x2 pooling operations: 30 -> 15 -> 7 (with floor division)\n",
    "        self.flattened_size = filters_2 * 7 * 7\n",
    "        \n",
    "        self.fc1 = nn.Linear(self.flattened_size, units)\n",
    "        self.dropout3 = nn.Dropout(dropout_3)\n",
    "        self.fc2 = nn.Linear(units, 1)  # Single output for binary classification\n",
    "        \n",
    "    def forward(self, x):\n",
    "        x = self.pool1(F.relu(self.conv1(x)))\n",
    "        x = self.dropout1(x)\n",
    "        \n",
    "        x = self.pool2(F.relu(self.conv2(x)))\n",
    "        x = self.dropout2(x)\n",
    "        \n",
    "        x = x.view(x.size(0), -1)  # Flatten\n",
    "        x = F.relu(self.fc1(x))\n",
    "        x = self.dropout3(x)\n",
    "        x = self.fc2(x)\n",
    "        \n",
    "        return x    \n",
    "\n",
    "model = CustomCNN()"
   ]
  },
  {
   "cell_type": "code",
   "execution_count": 22,
   "id": "9a843934",
   "metadata": {},
   "outputs": [
    {
     "data": {
      "text/plain": [
       "tensor([[0.1114]], grad_fn=<AddmmBackward0>)"
      ]
     },
     "execution_count": 22,
     "metadata": {},
     "output_type": "execute_result"
    }
   ],
   "source": [
    "model(torch.zeros(1, 1, 30, 30))"
   ]
  },
  {
   "cell_type": "code",
   "execution_count": 28,
   "id": "ea88238f",
   "metadata": {},
   "outputs": [
    {
     "name": "stderr",
     "output_type": "stream",
     "text": [
      "Traceback (most recent call last):\n",
      "Traceback (most recent call last):\n",
      "Traceback (most recent call last):\n",
      "Traceback (most recent call last):\n",
      "  File \"/pbs/home/r/rbonnetguerrini/.conda/envs/env_ML/lib/python3.9/multiprocessing/util.py\", line 300, in _run_finalizers\n",
      "    finalizer()\n",
      "  File \"/pbs/home/r/rbonnetguerrini/.conda/envs/env_ML/lib/python3.9/multiprocessing/util.py\", line 300, in _run_finalizers\n",
      "    finalizer()\n",
      "  File \"/pbs/home/r/rbonnetguerrini/.conda/envs/env_ML/lib/python3.9/multiprocessing/util.py\", line 300, in _run_finalizers\n",
      "    finalizer()\n",
      "  File \"/pbs/home/r/rbonnetguerrini/.conda/envs/env_ML/lib/python3.9/multiprocessing/util.py\", line 300, in _run_finalizers\n",
      "    finalizer()\n",
      "  File \"/pbs/home/r/rbonnetguerrini/.conda/envs/env_ML/lib/python3.9/multiprocessing/util.py\", line 224, in __call__\n",
      "    res = self._callback(*self._args, **self._kwargs)\n",
      "  File \"/pbs/home/r/rbonnetguerrini/.conda/envs/env_ML/lib/python3.9/multiprocessing/util.py\", line 224, in __call__\n",
      "    res = self._callback(*self._args, **self._kwargs)\n",
      "  File \"/pbs/home/r/rbonnetguerrini/.conda/envs/env_ML/lib/python3.9/multiprocessing/util.py\", line 224, in __call__\n",
      "    res = self._callback(*self._args, **self._kwargs)\n",
      "  File \"/pbs/home/r/rbonnetguerrini/.conda/envs/env_ML/lib/python3.9/multiprocessing/util.py\", line 224, in __call__\n",
      "    res = self._callback(*self._args, **self._kwargs)\n",
      "  File \"/pbs/home/r/rbonnetguerrini/.conda/envs/env_ML/lib/python3.9/multiprocessing/util.py\", line 133, in _remove_temp_dir\n",
      "    rmtree(tempdir)\n",
      "  File \"/pbs/home/r/rbonnetguerrini/.conda/envs/env_ML/lib/python3.9/multiprocessing/util.py\", line 133, in _remove_temp_dir\n",
      "    rmtree(tempdir)\n",
      "  File \"/pbs/home/r/rbonnetguerrini/.conda/envs/env_ML/lib/python3.9/multiprocessing/util.py\", line 133, in _remove_temp_dir\n",
      "    rmtree(tempdir)\n",
      "  File \"/pbs/home/r/rbonnetguerrini/.conda/envs/env_ML/lib/python3.9/shutil.py\", line 734, in rmtree\n",
      "    _rmtree_safe_fd(fd, path, onerror)\n",
      "  File \"/pbs/home/r/rbonnetguerrini/.conda/envs/env_ML/lib/python3.9/multiprocessing/util.py\", line 133, in _remove_temp_dir\n",
      "    rmtree(tempdir)\n",
      "  File \"/pbs/home/r/rbonnetguerrini/.conda/envs/env_ML/lib/python3.9/shutil.py\", line 734, in rmtree\n",
      "    _rmtree_safe_fd(fd, path, onerror)\n",
      "  File \"/pbs/home/r/rbonnetguerrini/.conda/envs/env_ML/lib/python3.9/shutil.py\", line 734, in rmtree\n",
      "    _rmtree_safe_fd(fd, path, onerror)\n",
      "  File \"/pbs/home/r/rbonnetguerrini/.conda/envs/env_ML/lib/python3.9/shutil.py\", line 690, in _rmtree_safe_fd\n",
      "    onerror(os.unlink, fullname, sys.exc_info())\n",
      "  File \"/pbs/home/r/rbonnetguerrini/.conda/envs/env_ML/lib/python3.9/shutil.py\", line 734, in rmtree\n",
      "    _rmtree_safe_fd(fd, path, onerror)\n",
      "  File \"/pbs/home/r/rbonnetguerrini/.conda/envs/env_ML/lib/python3.9/shutil.py\", line 690, in _rmtree_safe_fd\n",
      "    onerror(os.unlink, fullname, sys.exc_info())\n",
      "  File \"/pbs/home/r/rbonnetguerrini/.conda/envs/env_ML/lib/python3.9/shutil.py\", line 690, in _rmtree_safe_fd\n",
      "    onerror(os.unlink, fullname, sys.exc_info())\n",
      "  File \"/pbs/home/r/rbonnetguerrini/.conda/envs/env_ML/lib/python3.9/shutil.py\", line 688, in _rmtree_safe_fd\n",
      "    os.unlink(entry.name, dir_fd=topfd)\n",
      "  File \"/pbs/home/r/rbonnetguerrini/.conda/envs/env_ML/lib/python3.9/shutil.py\", line 690, in _rmtree_safe_fd\n",
      "    onerror(os.unlink, fullname, sys.exc_info())\n",
      "  File \"/pbs/home/r/rbonnetguerrini/.conda/envs/env_ML/lib/python3.9/shutil.py\", line 688, in _rmtree_safe_fd\n",
      "    os.unlink(entry.name, dir_fd=topfd)\n",
      "  File \"/pbs/home/r/rbonnetguerrini/.conda/envs/env_ML/lib/python3.9/shutil.py\", line 688, in _rmtree_safe_fd\n",
      "    os.unlink(entry.name, dir_fd=topfd)\n",
      "OSError: [Errno 16] Device or resource busy: '.nfs00000001aef069640000fcc6'\n",
      "  File \"/pbs/home/r/rbonnetguerrini/.conda/envs/env_ML/lib/python3.9/shutil.py\", line 688, in _rmtree_safe_fd\n",
      "    os.unlink(entry.name, dir_fd=topfd)\n",
      "OSError: [Errno 16] Device or resource busy: '.nfs00000001abf6a5a80000fcc9'\n",
      "OSError: [Errno 16] Device or resource busy: '.nfs00000001b8881c540000fcc8'\n",
      "OSError: [Errno 16] Device or resource busy: '.nfs00000001acc798150000fcc7'\n"
     ]
    },
    {
     "data": {
      "text/plain": [
       "{'loss': 0.5919589725343587, 'accuracy': 0.8809118496040264}"
      ]
     },
     "execution_count": 28,
     "metadata": {},
     "output_type": "execute_result"
    }
   ],
   "source": [
    "trainer.train_one_epoch(1, train_loader)"
   ]
  }
 ],
 "metadata": {
  "kernelspec": {
   "display_name": "env_ML",
   "language": "python",
   "name": "env_ML"
  }
 },
 "nbformat": 4,
 "nbformat_minor": 5
}
